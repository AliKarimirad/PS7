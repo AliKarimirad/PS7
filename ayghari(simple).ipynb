{
 "cells": [
  {
   "cell_type": "code",
   "execution_count": 1,
   "metadata": {},
   "outputs": [
    {
     "name": "stdout",
     "output_type": "stream",
     "text": [
      "\u001b[92m\u001b[1mDownloading \u001b[22m\u001b[39mQuantEcon/QuantEconLecturePackages-v0.3.1 → /Users/ali/Desktop/ali-master/PS7/.projects\n"
     ]
    },
    {
     "name": "stderr",
     "output_type": "stream",
     "text": [
      "-=#=#   #   #                                                                  \n"
     ]
    },
    {
     "name": "stdout",
     "output_type": "stream",
     "text": [
      "\u001b[92m\u001b[1mInstantiating \u001b[22m\u001b[39m/Users/ali/Desktop/ali-master/PS7/.projects/QuantEconLecturePackages-v0.3.1\n",
      "\u001b[32m\u001b[1m  Updating\u001b[22m\u001b[39m registry at `~/.julia/registries/General`\n",
      "\u001b[32m\u001b[1m  Updating\u001b[22m\u001b[39m git-repo `https://github.com/JuliaRegistries/General.git`\n",
      "\u001b[2K\u001b[?25h[1mFetching:\u001b[22m\u001b[39m [========================================>]  100.0 %.0 % [=======>                                 ]  16.7 %]  33.2 %>               ]  60.4 % [===============================>         ]  77.1 %>  ]  93.6 %\u001b[32m\u001b[1m Installed\u001b[22m\u001b[39m TableTraits ────── v0.3.1\n",
      "\u001b[32m\u001b[1m Installed\u001b[22m\u001b[39m Widgets ────────── v0.4.2\n",
      "\u001b[32m\u001b[1m Installed\u001b[22m\u001b[39m LazyArrays ─────── v0.2.1\n",
      "\u001b[32m\u001b[1m Installed\u001b[22m\u001b[39m KernelDensity ──── v0.5.0\n",
      "\u001b[32m\u001b[1m Installed\u001b[22m\u001b[39m CodecZlib ──────── v0.5.0\n",
      "\u001b[32m\u001b[1m Installed\u001b[22m\u001b[39m SpecialFunctions ─ v0.7.1\n",
      "\u001b[32m\u001b[1m Installed\u001b[22m\u001b[39m ForwardDiff ────── v0.9.0\n",
      "\u001b[32m\u001b[1m Installed\u001b[22m\u001b[39m Observables ────── v0.2.2\n",
      "\u001b[32m\u001b[1m Installed\u001b[22m\u001b[39m IterableTables ─── v0.9.0\n",
      "\u001b[32m\u001b[1m Installed\u001b[22m\u001b[39m BandedMatrices ─── v0.6.0\n",
      "\u001b[32m\u001b[1m Installed\u001b[22m\u001b[39m MbedTLS ────────── v0.6.3\n",
      "\u001b[32m\u001b[1m Installed\u001b[22m\u001b[39m DiffEqDiffTools ── v0.6.0\n",
      "\u001b[32m\u001b[1m Installed\u001b[22m\u001b[39m GR ─────────────── v0.34.1\n",
      "\u001b[32m\u001b[1m Installed\u001b[22m\u001b[39m StaticArrays ───── v0.8.3\n",
      "\u001b[32m\u001b[1m Installed\u001b[22m\u001b[39m Plots ──────────── v0.20.6\n",
      "\u001b[32m\u001b[1m Installed\u001b[22m\u001b[39m Tables ─────────── v0.1.9\n",
      "\u001b[32m\u001b[1m Installed\u001b[22m\u001b[39m LineSearches ───── v7.0.0\n",
      "\u001b[32m\u001b[1m Installed\u001b[22m\u001b[39m NLsolve ────────── v2.1.0\n",
      "\u001b[32m\u001b[1m Installed\u001b[22m\u001b[39m Colors ─────────── v0.9.4\n",
      "\u001b[32m\u001b[1m Installed\u001b[22m\u001b[39m Interpolations ─── v0.10.4\n",
      "\u001b[32m\u001b[1m  Building\u001b[22m\u001b[39m SpecialFunctions → `~/.julia/packages/SpecialFunctions/sXbz6/deps/build.log`\n",
      "\u001b[32m\u001b[1m  Building\u001b[22m\u001b[39m GR ──────────────→ `~/.julia/packages/GR/joQgG/deps/build.log`\n",
      "\u001b[32m\u001b[1m  Building\u001b[22m\u001b[39m CodecZlib ───────→ `~/.julia/packages/CodecZlib/wwgbh/deps/build.log`\n",
      "\u001b[32m\u001b[1m  Building\u001b[22m\u001b[39m MbedTLS ─────────→ `~/.julia/packages/MbedTLS/mkHpa/deps/build.log`\n",
      "\u001b[32m\u001b[1m  Building\u001b[22m\u001b[39m Plots ───────────→ `~/.julia/packages/Plots/Ufx0i/deps/build.log`\n",
      "\u001b[32m\u001b[1mPrecompiling\u001b[22m\u001b[39m project...\n",
      "\u001b[32m\u001b[1mPrecompiling\u001b[22m\u001b[39m ForwardDiff\n"
     ]
    },
    {
     "name": "stderr",
     "output_type": "stream",
     "text": [
      "┌ Info: Recompiling stale cache file /Users/ali/.julia/compiled/v1.0/ForwardDiff/k0ETY.ji for ForwardDiff [f6369f11-7733-5829-9624-2563aa707210]\n",
      "└ @ Base loading.jl:1190\n"
     ]
    },
    {
     "name": "stdout",
     "output_type": "stream",
     "text": [
      "\u001b[32m\u001b[1mPrecompiling\u001b[22m\u001b[39m GR\n"
     ]
    },
    {
     "name": "stderr",
     "output_type": "stream",
     "text": [
      "┌ Info: Recompiling stale cache file /Users/ali/.julia/compiled/v1.0/GR/NDU5Y.ji for GR [28b8d3ca-fb5f-59d9-8090-bfdbd6d07a71]\n",
      "└ @ Base loading.jl:1190\n"
     ]
    },
    {
     "name": "stdout",
     "output_type": "stream",
     "text": [
      "\u001b[32m\u001b[1mPrecompiling\u001b[22m\u001b[39m Interpolations\n"
     ]
    },
    {
     "name": "stderr",
     "output_type": "stream",
     "text": [
      "┌ Info: Recompiling stale cache file /Users/ali/.julia/compiled/v1.0/Interpolations/VpKVx.ji for Interpolations [a98d9a8b-a2ab-59e6-89dd-64a1c18fca59]\n",
      "└ @ Base loading.jl:1190\n"
     ]
    },
    {
     "name": "stdout",
     "output_type": "stream",
     "text": [
      "\u001b[32m\u001b[1mPrecompiling\u001b[22m\u001b[39m BandedMatrices\n"
     ]
    },
    {
     "name": "stderr",
     "output_type": "stream",
     "text": [
      "┌ Info: Recompiling stale cache file /Users/ali/.julia/compiled/v1.0/BandedMatrices/OxlqV.ji for BandedMatrices [aae01518-5342-5314-be14-df237901396f]\n",
      "└ @ Base loading.jl:1190\n"
     ]
    },
    {
     "name": "stdout",
     "output_type": "stream",
     "text": [
      "\u001b[32m\u001b[1mPrecompiling\u001b[22m\u001b[39m KernelDensity\n"
     ]
    },
    {
     "name": "stderr",
     "output_type": "stream",
     "text": [
      "┌ Info: Recompiling stale cache file /Users/ali/.julia/compiled/v1.0/KernelDensity/4QyGx.ji for KernelDensity [5ab0869b-81aa-558d-bb23-cbf5423bbe9b]\n",
      "└ @ Base loading.jl:1190\n"
     ]
    },
    {
     "name": "stdout",
     "output_type": "stream",
     "text": [
      "\u001b[32m\u001b[1mPrecompiling\u001b[22m\u001b[39m IJulia\n"
     ]
    },
    {
     "name": "stderr",
     "output_type": "stream",
     "text": [
      "┌ Info: Recompiling stale cache file /Users/ali/.julia/compiled/v1.0/IJulia/nfu7T.ji for IJulia [7073ff75-c697-5162-941a-fcdaad2a7d2a]\n",
      "└ @ Base loading.jl:1190\n"
     ]
    },
    {
     "name": "stdout",
     "output_type": "stream",
     "text": [
      "\u001b[32m\u001b[1mPrecompiling\u001b[22m\u001b[39m Plots\n"
     ]
    },
    {
     "name": "stderr",
     "output_type": "stream",
     "text": [
      "┌ Info: Recompiling stale cache file /Users/ali/.julia/compiled/v1.0/Plots/ld3vC.ji for Plots [91a5bcdd-55d7-5caf-9e0b-520d859cae80]\n",
      "└ @ Base loading.jl:1190\n"
     ]
    },
    {
     "name": "stdout",
     "output_type": "stream",
     "text": [
      "\u001b[32m\u001b[1mPrecompiling\u001b[22m\u001b[39m NLsolve\n"
     ]
    },
    {
     "name": "stderr",
     "output_type": "stream",
     "text": [
      "┌ Info: Recompiling stale cache file /Users/ali/.julia/compiled/v1.0/NLsolve/KFCNP.ji for NLsolve [2774e3e8-f4cf-5e23-947b-6d7e65073b56]\n",
      "└ @ Base loading.jl:1190\n",
      "┌ Info: Recompiling stale cache file /Users/ali/.julia/compiled/v1.0/QuantEcon/V0Mv9.ji for QuantEcon [fcd29c91-0bd7-5a09-975d-7ac3f643a60c]\n",
      "└ @ Base loading.jl:1190\n"
     ]
    }
   ],
   "source": [
    "using InstantiateFromURL\n",
    "activate_github(\"QuantEcon/QuantEconLecturePackages\", tag=\"v0.3.1\")\n",
    "using QuantEcon\n",
    "using LinearAlgebra, Statistics, Compat\n",
    "using LaTeXStrings\n",
    "using Plots\n",
    "using Parameters"
   ]
  },
  {
   "cell_type": "code",
   "execution_count": 2,
   "metadata": {},
   "outputs": [
    {
     "name": "stdout",
     "output_type": "stream",
     "text": [
      "  2.176905 seconds (17.00 M allocations: 1.442 GiB, 10.15% gc time)\n",
      "iter = 298\n"
     ]
    },
    {
     "data": {
      "image/svg+xml": [
       "<?xml version=\"1.0\" encoding=\"utf-8\"?>\n",
       "<svg xmlns=\"http://www.w3.org/2000/svg\" xmlns:xlink=\"http://www.w3.org/1999/xlink\" width=\"600\" height=\"400\" viewBox=\"0 0 2400 1600\">\n",
       "<defs>\n",
       "  <clipPath id=\"clip0900\">\n",
       "    <rect x=\"0\" y=\"0\" width=\"2000\" height=\"2000\"/>\n",
       "  </clipPath>\n",
       "</defs>\n",
       "<defs>\n",
       "  <clipPath id=\"clip0901\">\n",
       "    <rect x=\"0\" y=\"0\" width=\"2400\" height=\"1600\"/>\n",
       "  </clipPath>\n",
       "</defs>\n",
       "<polygon clip-path=\"url(#clip0901)\" points=\"\n",
       "0,1600 2400,1600 2400,0 0,0 \n",
       "  \" fill=\"#ffffff\" fill-opacity=\"1\"/>\n",
       "<defs>\n",
       "  <clipPath id=\"clip0902\">\n",
       "    <rect x=\"480\" y=\"0\" width=\"1681\" height=\"1600\"/>\n",
       "  </clipPath>\n",
       "</defs>\n",
       "<polygon clip-path=\"url(#clip0901)\" points=\"\n",
       "189.504,1503.47 2321.26,1503.47 2321.26,47.2441 189.504,47.2441 \n",
       "  \" fill=\"#ffffff\" fill-opacity=\"1\"/>\n",
       "<defs>\n",
       "  <clipPath id=\"clip0903\">\n",
       "    <rect x=\"189\" y=\"47\" width=\"2133\" height=\"1457\"/>\n",
       "  </clipPath>\n",
       "</defs>\n",
       "<polyline clip-path=\"url(#clip0903)\" style=\"stroke:#000000; stroke-width:2; stroke-opacity:0.1; fill:none\" points=\"\n",
       "  236.34,1503.47 236.34,47.2441 \n",
       "  \"/>\n",
       "<polyline clip-path=\"url(#clip0903)\" style=\"stroke:#000000; stroke-width:2; stroke-opacity:0.1; fill:none\" points=\"\n",
       "  911.202,1503.47 911.202,47.2441 \n",
       "  \"/>\n",
       "<polyline clip-path=\"url(#clip0903)\" style=\"stroke:#000000; stroke-width:2; stroke-opacity:0.1; fill:none\" points=\"\n",
       "  1586.06,1503.47 1586.06,47.2441 \n",
       "  \"/>\n",
       "<polyline clip-path=\"url(#clip0903)\" style=\"stroke:#000000; stroke-width:2; stroke-opacity:0.1; fill:none\" points=\"\n",
       "  2260.93,1503.47 2260.93,47.2441 \n",
       "  \"/>\n",
       "<polyline clip-path=\"url(#clip0903)\" style=\"stroke:#000000; stroke-width:2; stroke-opacity:0.1; fill:none\" points=\"\n",
       "  189.504,1223.34 2321.26,1223.34 \n",
       "  \"/>\n",
       "<polyline clip-path=\"url(#clip0903)\" style=\"stroke:#000000; stroke-width:2; stroke-opacity:0.1; fill:none\" points=\"\n",
       "  189.504,924.686 2321.26,924.686 \n",
       "  \"/>\n",
       "<polyline clip-path=\"url(#clip0903)\" style=\"stroke:#000000; stroke-width:2; stroke-opacity:0.1; fill:none\" points=\"\n",
       "  189.504,626.033 2321.26,626.033 \n",
       "  \"/>\n",
       "<polyline clip-path=\"url(#clip0903)\" style=\"stroke:#000000; stroke-width:2; stroke-opacity:0.1; fill:none\" points=\"\n",
       "  189.504,327.38 2321.26,327.38 \n",
       "  \"/>\n",
       "<polyline clip-path=\"url(#clip0901)\" style=\"stroke:#000000; stroke-width:4; stroke-opacity:1; fill:none\" points=\"\n",
       "  189.504,1503.47 2321.26,1503.47 \n",
       "  \"/>\n",
       "<polyline clip-path=\"url(#clip0901)\" style=\"stroke:#000000; stroke-width:4; stroke-opacity:1; fill:none\" points=\"\n",
       "  189.504,1503.47 189.504,47.2441 \n",
       "  \"/>\n",
       "<polyline clip-path=\"url(#clip0901)\" style=\"stroke:#000000; stroke-width:4; stroke-opacity:1; fill:none\" points=\"\n",
       "  236.34,1503.47 236.34,1481.63 \n",
       "  \"/>\n",
       "<polyline clip-path=\"url(#clip0901)\" style=\"stroke:#000000; stroke-width:4; stroke-opacity:1; fill:none\" points=\"\n",
       "  911.202,1503.47 911.202,1481.63 \n",
       "  \"/>\n",
       "<polyline clip-path=\"url(#clip0901)\" style=\"stroke:#000000; stroke-width:4; stroke-opacity:1; fill:none\" points=\"\n",
       "  1586.06,1503.47 1586.06,1481.63 \n",
       "  \"/>\n",
       "<polyline clip-path=\"url(#clip0901)\" style=\"stroke:#000000; stroke-width:4; stroke-opacity:1; fill:none\" points=\"\n",
       "  2260.93,1503.47 2260.93,1481.63 \n",
       "  \"/>\n",
       "<polyline clip-path=\"url(#clip0901)\" style=\"stroke:#000000; stroke-width:4; stroke-opacity:1; fill:none\" points=\"\n",
       "  189.504,1223.34 221.48,1223.34 \n",
       "  \"/>\n",
       "<polyline clip-path=\"url(#clip0901)\" style=\"stroke:#000000; stroke-width:4; stroke-opacity:1; fill:none\" points=\"\n",
       "  189.504,924.686 221.48,924.686 \n",
       "  \"/>\n",
       "<polyline clip-path=\"url(#clip0901)\" style=\"stroke:#000000; stroke-width:4; stroke-opacity:1; fill:none\" points=\"\n",
       "  189.504,626.033 221.48,626.033 \n",
       "  \"/>\n",
       "<polyline clip-path=\"url(#clip0901)\" style=\"stroke:#000000; stroke-width:4; stroke-opacity:1; fill:none\" points=\"\n",
       "  189.504,327.38 221.48,327.38 \n",
       "  \"/>\n",
       "<g clip-path=\"url(#clip0901)\">\n",
       "<text style=\"fill:#000000; fill-opacity:1; font-family:Arial,Helvetica Neue,Helvetica,sans-serif; font-size:48; text-anchor:middle;\" transform=\"rotate(0, 236.34, 1557.47)\" x=\"236.34\" y=\"1557.47\">0</text>\n",
       "</g>\n",
       "<g clip-path=\"url(#clip0901)\">\n",
       "<text style=\"fill:#000000; fill-opacity:1; font-family:Arial,Helvetica Neue,Helvetica,sans-serif; font-size:48; text-anchor:middle;\" transform=\"rotate(0, 911.202, 1557.47)\" x=\"911.202\" y=\"1557.47\">50</text>\n",
       "</g>\n",
       "<g clip-path=\"url(#clip0901)\">\n",
       "<text style=\"fill:#000000; fill-opacity:1; font-family:Arial,Helvetica Neue,Helvetica,sans-serif; font-size:48; text-anchor:middle;\" transform=\"rotate(0, 1586.06, 1557.47)\" x=\"1586.06\" y=\"1557.47\">100</text>\n",
       "</g>\n",
       "<g clip-path=\"url(#clip0901)\">\n",
       "<text style=\"fill:#000000; fill-opacity:1; font-family:Arial,Helvetica Neue,Helvetica,sans-serif; font-size:48; text-anchor:middle;\" transform=\"rotate(0, 2260.93, 1557.47)\" x=\"2260.93\" y=\"1557.47\">150</text>\n",
       "</g>\n",
       "<g clip-path=\"url(#clip0901)\">\n",
       "<text style=\"fill:#000000; fill-opacity:1; font-family:Arial,Helvetica Neue,Helvetica,sans-serif; font-size:48; text-anchor:end;\" transform=\"rotate(0, 165.504, 1240.84)\" x=\"165.504\" y=\"1240.84\">-1.0</text>\n",
       "</g>\n",
       "<g clip-path=\"url(#clip0901)\">\n",
       "<text style=\"fill:#000000; fill-opacity:1; font-family:Arial,Helvetica Neue,Helvetica,sans-serif; font-size:48; text-anchor:end;\" transform=\"rotate(0, 165.504, 942.186)\" x=\"165.504\" y=\"942.186\">-0.5</text>\n",
       "</g>\n",
       "<g clip-path=\"url(#clip0901)\">\n",
       "<text style=\"fill:#000000; fill-opacity:1; font-family:Arial,Helvetica Neue,Helvetica,sans-serif; font-size:48; text-anchor:end;\" transform=\"rotate(0, 165.504, 643.533)\" x=\"165.504\" y=\"643.533\">0.0</text>\n",
       "</g>\n",
       "<g clip-path=\"url(#clip0901)\">\n",
       "<text style=\"fill:#000000; fill-opacity:1; font-family:Arial,Helvetica Neue,Helvetica,sans-serif; font-size:48; text-anchor:end;\" transform=\"rotate(0, 165.504, 344.88)\" x=\"165.504\" y=\"344.88\">0.5</text>\n",
       "</g>\n",
       "<polyline clip-path=\"url(#clip0903)\" style=\"stroke:#009af9; stroke-width:4; stroke-opacity:1; fill:none\" points=\"\n",
       "  249.837,88.4582 263.334,88.4582 276.831,88.4582 290.329,88.4582 303.826,148.189 317.323,148.189 330.82,148.189 344.318,148.189 357.815,148.189 371.312,148.189 \n",
       "  384.809,148.189 398.307,148.189 411.804,148.189 425.301,207.919 438.798,207.919 452.296,207.919 465.793,207.919 479.29,207.919 492.787,207.919 506.285,207.919 \n",
       "  519.782,207.919 533.279,207.919 546.776,267.65 560.274,267.65 573.771,267.65 587.268,267.65 600.765,267.65 614.263,267.65 627.76,267.65 641.257,267.65 \n",
       "  654.754,267.65 668.252,267.65 681.749,267.65 695.246,267.65 708.743,327.38 722.241,327.38 735.738,327.38 749.235,327.38 762.732,327.38 776.23,327.38 \n",
       "  789.727,327.38 803.224,327.38 816.721,327.38 830.219,327.38 843.716,327.38 857.213,387.111 870.71,387.111 884.208,387.111 897.705,387.111 911.202,387.111 \n",
       "  924.699,387.111 938.197,387.111 951.694,387.111 965.191,387.111 978.688,387.111 992.186,387.111 1005.68,387.111 1019.18,387.111 1032.68,446.841 1046.17,446.841 \n",
       "  1059.67,446.841 1073.17,446.841 1086.67,446.841 1100.16,446.841 1113.66,446.841 1127.16,446.841 1140.66,446.841 1154.15,446.841 1167.65,446.841 1181.15,446.841 \n",
       "  1194.64,446.841 1208.14,446.841 1221.64,506.572 1235.14,506.572 1248.63,506.572 1262.13,506.572 1275.63,506.572 1289.13,506.572 1302.62,506.572 1316.12,506.572 \n",
       "  1329.62,506.572 1343.11,506.572 1356.61,506.572 1370.11,506.572 1383.61,506.572 1397.1,506.572 1410.6,566.303 1424.1,566.303 1437.59,566.303 1451.09,566.303 \n",
       "  1464.59,566.303 1478.09,566.303 1491.58,566.303 1505.08,566.303 1518.58,566.303 1532.08,566.303 1545.57,566.303 1559.07,566.303 1572.57,566.303 1586.06,566.303 \n",
       "  1599.56,566.303 1613.06,626.033 1626.56,626.033 1640.05,626.033 1653.55,626.033 1667.05,626.033 1680.55,626.033 1694.04,626.033 1707.54,626.033 1721.04,626.033 \n",
       "  1734.53,626.033 1748.03,626.033 1761.53,626.033 1775.03,685.764 1788.52,685.764 1802.02,685.764 1815.52,685.764 1829.02,685.764 1842.51,685.764 1856.01,685.764 \n",
       "  1869.51,685.764 1883,685.764 1896.5,685.764 1910,685.764 1923.5,685.764 1936.99,685.764 1950.49,685.764 1963.99,685.764 1977.48,685.764 1990.98,685.764 \n",
       "  2004.48,745.494 2017.98,745.494 2031.47,745.494 2044.97,745.494 2058.47,745.494 2071.97,745.494 2085.46,745.494 2098.96,745.494 2112.46,745.494 2125.95,745.494 \n",
       "  2139.45,745.494 2152.95,745.494 2166.45,745.494 2179.94,745.494 2193.44,745.494 2206.94,745.494 2220.44,745.494 2233.93,805.225 2247.43,805.225 2260.93,805.225 \n",
       "  \n",
       "  \"/>\n",
       "<polyline clip-path=\"url(#clip0903)\" style=\"stroke:#e26f46; stroke-width:4; stroke-opacity:1; fill:none\" points=\"\n",
       "  249.837,626.033 263.334,685.764 276.831,685.764 290.329,685.764 303.826,685.764 317.323,745.494 330.82,745.494 344.318,745.494 357.815,745.494 371.312,745.494 \n",
       "  384.809,805.225 398.307,805.225 411.804,805.225 425.301,805.225 438.798,805.225 452.296,805.225 465.793,805.225 479.29,805.225 492.787,864.955 506.285,864.955 \n",
       "  519.782,864.955 533.279,864.955 546.776,864.955 560.274,864.955 573.771,864.955 587.268,864.955 600.765,924.686 614.263,924.686 627.76,924.686 641.257,924.686 \n",
       "  654.754,924.686 668.252,924.686 681.749,924.686 695.246,924.686 708.743,984.416 722.241,984.416 735.738,984.416 749.235,984.416 762.732,984.416 776.23,984.416 \n",
       "  789.727,984.416 803.224,984.416 816.721,984.416 830.219,984.416 843.716,984.416 857.213,984.416 870.71,1044.15 884.208,1044.15 897.705,1044.15 911.202,1044.15 \n",
       "  924.699,1044.15 938.197,1044.15 951.694,1044.15 965.191,1044.15 978.688,1044.15 992.186,1103.88 1005.68,1103.88 1019.18,1103.88 1032.68,1103.88 1046.17,1103.88 \n",
       "  1059.67,1103.88 1073.17,1103.88 1086.67,1103.88 1100.16,1103.88 1113.66,1103.88 1127.16,1103.88 1140.66,1103.88 1154.15,1103.88 1167.65,1163.61 1181.15,1163.61 \n",
       "  1194.64,1163.61 1208.14,1163.61 1221.64,1163.61 1235.14,1163.61 1248.63,1163.61 1262.13,1163.61 1275.63,1163.61 1289.13,1163.61 1302.62,1163.61 1316.12,1163.61 \n",
       "  1329.62,1223.34 1343.11,1223.34 1356.61,1223.34 1370.11,1223.34 1383.61,1223.34 1397.1,1223.34 1410.6,1223.34 1424.1,1223.34 1437.59,1223.34 1451.09,1223.34 \n",
       "  1464.59,1223.34 1478.09,1223.34 1491.58,1283.07 1505.08,1283.07 1518.58,1283.07 1532.08,1283.07 1545.57,1283.07 1559.07,1283.07 1572.57,1283.07 1586.06,1283.07 \n",
       "  1599.56,1283.07 1613.06,1283.07 1626.56,1283.07 1640.05,1283.07 1653.55,1283.07 1667.05,1283.07 1680.55,1342.8 1694.04,1342.8 1707.54,1342.8 1721.04,1342.8 \n",
       "  1734.53,1342.8 1748.03,1342.8 1761.53,1342.8 1775.03,1342.8 1788.52,1342.8 1802.02,1342.8 1815.52,1342.8 1829.02,1342.8 1842.51,1342.8 1856.01,1342.8 \n",
       "  1869.51,1342.8 1883,1402.53 1896.5,1402.53 1910,1402.53 1923.5,1402.53 1936.99,1402.53 1950.49,1402.53 1963.99,1402.53 1977.48,1402.53 1990.98,1402.53 \n",
       "  2004.48,1402.53 2017.98,1402.53 2031.47,1402.53 2044.97,1402.53 2058.47,1402.53 2071.97,1462.26 2085.46,1462.26 2098.96,1462.26 2112.46,1462.26 2125.95,1462.26 \n",
       "  2139.45,1462.26 2152.95,1462.26 2166.45,1462.26 2179.94,1462.26 2193.44,1462.26 2206.94,1462.26 2220.44,1462.26 2233.93,1462.26 2247.43,1462.26 2260.93,1462.26 \n",
       "  \n",
       "  \"/>\n",
       "<polygon clip-path=\"url(#clip0901)\" points=\"\n",
       "1321.67,312.204 2249.26,312.204 2249.26,130.764 1321.67,130.764 \n",
       "  \" fill=\"#ffffff\" fill-opacity=\"1\"/>\n",
       "<polyline clip-path=\"url(#clip0901)\" style=\"stroke:#000000; stroke-width:4; stroke-opacity:1; fill:none\" points=\"\n",
       "  1321.67,312.204 2249.26,312.204 2249.26,130.764 1321.67,130.764 1321.67,312.204 \n",
       "  \"/>\n",
       "<polyline clip-path=\"url(#clip0901)\" style=\"stroke:#009af9; stroke-width:4; stroke-opacity:1; fill:none\" points=\"\n",
       "  1345.67,191.244 1489.67,191.244 \n",
       "  \"/>\n",
       "<g clip-path=\"url(#clip0901)\">\n",
       "<text style=\"fill:#000000; fill-opacity:1; font-family:Arial,Helvetica Neue,Helvetica,sans-serif; font-size:48; text-anchor:start;\" transform=\"rotate(0, 1513.67, 208.744)\" x=\"1513.67\" y=\"208.744\">Value function at employment</text>\n",
       "</g>\n",
       "<polyline clip-path=\"url(#clip0901)\" style=\"stroke:#e26f46; stroke-width:4; stroke-opacity:1; fill:none\" points=\"\n",
       "  1345.67,251.724 1489.67,251.724 \n",
       "  \"/>\n",
       "<g clip-path=\"url(#clip0901)\">\n",
       "<text style=\"fill:#000000; fill-opacity:1; font-family:Arial,Helvetica Neue,Helvetica,sans-serif; font-size:48; text-anchor:start;\" transform=\"rotate(0, 1513.67, 269.224)\" x=\"1513.67\" y=\"269.224\">Value function at unemployment</text>\n",
       "</g>\n",
       "</svg>\n"
      ]
     },
     "execution_count": 2,
     "metadata": {},
     "output_type": "execute_result"
    }
   ],
   "source": [
    "#------Household Problem\n",
    "u(c,σ)= (c^(1-σ))/(1-σ) \n",
    "r=0.00\n",
    "AiyagariModel = @with_kw (β=0.96, # discount rate\n",
    "    σ=1.1,\n",
    "    α=0.33, \n",
    "    A=1,\n",
    "    δ=0.05,\n",
    "    z=[0.1; 1.0],\n",
    "    p=[0.9 0.1; 0.1 0.9],\n",
    "    a_min=1e-10,\n",
    "    a_max=15,\n",
    "    a_size=150) \n",
    "param = AiyagariModel()\n",
    "#---function  calculate optimal policy function and the value function\n",
    "function hh_policy(param,r;max_iter=500)\n",
    "@unpack β,σ,α,A ,δ,z,p, a_min,a_max,a_size=param\n",
    "a_vals = range(a_min, a_max,  length=a_size) \n",
    "\n",
    "w=A*(1-α)*((A*α/(r+δ))^α/(1-α)) \n",
    "v_new=zeros(length(a_vals))\n",
    "v=zeros(length(a_vals),length(z))\n",
    "v_old=zeros(length(a_vals),length(z))\n",
    "a_prime=zeros(length(a_vals),length(z))\n",
    "error=1\n",
    "iter=0 \n",
    "   #---iteration\n",
    "   while error>1e-3 && iter<max_iter\n",
    "for i in eachindex(a_vals)          # for a\n",
    "    for j in eachindex(z)           # for z\n",
    "        for k in eachindex(a_vals)  # for a'\n",
    "            c=(1+r)*a_vals[i]+w*z[j]-a_vals[k]\n",
    "            if c>0\n",
    "            v_new[k]=u(c,σ)+β*(p[j,:]'*v_old[k,:])\n",
    "            else\n",
    "              v_new[k]=-Inf     \n",
    "            end\n",
    "                \n",
    "        end\n",
    "      \n",
    "              v[i,j]  =findmax(v_new)[1]\n",
    "               a_prime[i,j]= findmax(v_new)[2]  # gives integer\n",
    "   end\n",
    "end\n",
    "        error=norm((v-v_old)) \n",
    "        v_old=copy(v)\n",
    "        iter=iter+1 \n",
    "       \n",
    "    end  \n",
    "    \n",
    "    return v_old,a_prime,iter\n",
    "end\n",
    "@time   v_old,a_prime,iter= hh_policy(param,r)\n",
    "\n",
    "    @show iter\n",
    "    #---function  calculate saving in each state\n",
    "    #we do not need this function to iterate every time\n",
    "function asset_change(a_prime,param)\n",
    "   @unpack β,σ,α,A ,δ,z,p, a_min,a_max,a_size=param\n",
    "    a_vals = range(a_min, a_max,  length=a_size) \n",
    "    current_asset=zeros(length(a_vals),length(z))\n",
    "    new_saving   =zeros(length(a_vals),length(z))\n",
    "    for j in eachindex(z)\n",
    "    for i in eachindex(a_vals)\n",
    "    current_asset[i,j]=i\n",
    "    end\n",
    "    end\n",
    "    \n",
    "    for j in eachindex(z)\n",
    "    for i in eachindex(a_vals)\n",
    "    current_asset[i,j]=i\n",
    "    end\n",
    "    end\n",
    "  return new_saving=(a_prime.-current_asset)*(a_max-a_min)/a_size\n",
    "        \n",
    "    end\n",
    "   new_saving=asset_change(a_prime,param)\n",
    "    plot(new_saving[:,2],label = \"Value function at employment\")\n",
    "    plot!(new_saving[:,1],label = \"Value function at unemployment\")"
   ]
  },
  {
   "cell_type": "code",
   "execution_count": 3,
   "metadata": {},
   "outputs": [
    {
     "data": {
      "text/plain": [
       "1×2 Array{Int64,2}:\n",
       " 1  22"
      ]
     },
     "execution_count": 3,
     "metadata": {},
     "output_type": "execute_result"
    }
   ],
   "source": [
    "a=[1 22 34]\n",
    "a_v=[1 2]\n",
    "a[a_v]"
   ]
  },
  {
   "cell_type": "code",
   "execution_count": 4,
   "metadata": {},
   "outputs": [
    {
     "name": "stdout",
     "output_type": "stream",
     "text": [
      "  0.286255 seconds (740.70 k allocations: 35.072 MiB, 6.74% gc time)\n"
     ]
    },
    {
     "data": {
      "text/plain": [
       "(37, 0.0, 1.0000000000000004, [0.0 0.0; 0.0 0.0; … ; 0.0 0.0; 0.0 0.0], 1.0e-10:0.10067114093892618:15.0)"
      ]
     },
     "execution_count": 4,
     "metadata": {},
     "output_type": "execute_result"
    }
   ],
   "source": [
    "#---finding stationary distribution   \n",
    "\n",
    "function stationary_dist(a_prime,param;max_iter=500)\n",
    " @unpack β,σ,α,A ,δ,z,p, a_min,a_max,a_size=param\n",
    "a_vals = range(a_min, a_max,  length=a_size) \n",
    "λ=ones(length(a_vals),length(z))/(length(a_vals)*length(z))\n",
    "λ_new=ones(length(a_vals),length(z))\n",
    "iter=0\n",
    "error=1\n",
    "    while iter<max_iter && error>1e-10 \n",
    "    for j in 1: length(z)   \n",
    "    for k in eachindex(a_vals)\n",
    "           λ_new[k,j]=copy(p[1,j]*sum(λ[i,1]*(a_prime[i,2]==k) for i in eachindex(a_vals)) +p[2,j]*sum(λ[i,2]*(a_prime[i,2]==k) for i in eachindex(a_vals))) \n",
    "    end\n",
    "    end\n",
    "    error=norm(λ_new-λ) \n",
    "    iter=iter+1\n",
    "    λ.=λ_new    \n",
    "    end\n",
    "    λ_s=sum(λ)\n",
    "    n_λ=λ./λ_s\n",
    "    return iter,error,λ_s,n_λ,a_vals \n",
    "end\n",
    "@time  iter_s,error_s,λ_s,λ,a_vals =stationary_dist(a_prime,param)\n",
    "#we get a_vals   for the simplicity of next part\n",
    "        \n",
    "\n",
    "    "
   ]
  },
  {
   "cell_type": "code",
   "execution_count": 5,
   "metadata": {},
   "outputs": [
    {
     "name": "stdout",
     "output_type": "stream",
     "text": [
      " 10.290081 seconds (106.61 M allocations: 9.498 GiB, 12.63% gc time)\n"
     ]
    },
    {
     "data": {
      "text/plain": [
       "(7, 0.0, -0.002701211217719532, 0.5499999999999999, 9.98993288593944, [0.0 0.0; 0.0 0.0; … ; 0.0 0.0; 0.0 0.0], [1.0 10.0; 1.0 11.0; … ; 135.0 146.0; 136.0 147.0])"
      ]
     },
     "execution_count": 5,
     "metadata": {},
     "output_type": "execute_result"
    }
   ],
   "source": [
    "function station_equi(param,r,max_iter=500)\n",
    " @unpack β,σ,α,A ,δ,z,p, a_min,a_max,a_size=param\n",
    "    iter=0\n",
    "    er=1.0\n",
    "    k=0.0\n",
    "    L=0.0\n",
    "    #(1-β)/2\n",
    "    a_vals = range(a_min, a_max, length=a_size) \n",
    "    while er>1e-5 && iter<max_iter\n",
    "   \n",
    "    v_old,a_prime,iter_h= hh_policy(param,r)\n",
    "  \n",
    "    iter_s,error_s,λ_s,λ,a_vals =stationary_dist(a_prime,param)\n",
    "  \n",
    "    L=sum((z')*λ')  \n",
    "    k=sum(a_vals'*λ)\n",
    "    r_new=α*A*(k^(α-1))*(L^(1-α))-δ\n",
    "    er=norm(r_new-r)\n",
    "        r=r_new\n",
    "        iter=iter+1\n",
    "    end\n",
    "    return iter,er,r,L,k,λ,a_prime\n",
    "end\n",
    "@time begin\n",
    "iter,er,r,L,k,λ,a_prime=station_equi(param,0.0)\n",
    "    end"
   ]
  },
  {
   "cell_type": "code",
   "execution_count": 6,
   "metadata": {},
   "outputs": [
    {
     "data": {
      "image/svg+xml": [
       "<?xml version=\"1.0\" encoding=\"utf-8\"?>\n",
       "<svg xmlns=\"http://www.w3.org/2000/svg\" xmlns:xlink=\"http://www.w3.org/1999/xlink\" width=\"600\" height=\"400\" viewBox=\"0 0 2400 1600\">\n",
       "<defs>\n",
       "  <clipPath id=\"clip1100\">\n",
       "    <rect x=\"0\" y=\"0\" width=\"2000\" height=\"2000\"/>\n",
       "  </clipPath>\n",
       "</defs>\n",
       "<defs>\n",
       "  <clipPath id=\"clip1101\">\n",
       "    <rect x=\"0\" y=\"0\" width=\"2400\" height=\"1600\"/>\n",
       "  </clipPath>\n",
       "</defs>\n",
       "<polygon clip-path=\"url(#clip1101)\" points=\"\n",
       "0,1600 2400,1600 2400,0 0,0 \n",
       "  \" fill=\"#ffffff\" fill-opacity=\"1\"/>\n",
       "<defs>\n",
       "  <clipPath id=\"clip1102\">\n",
       "    <rect x=\"480\" y=\"0\" width=\"1681\" height=\"1600\"/>\n",
       "  </clipPath>\n",
       "</defs>\n",
       "<polygon clip-path=\"url(#clip1101)\" points=\"\n",
       "161.394,1503.47 2321.26,1503.47 2321.26,47.2441 161.394,47.2441 \n",
       "  \" fill=\"#ffffff\" fill-opacity=\"1\"/>\n",
       "<defs>\n",
       "  <clipPath id=\"clip1103\">\n",
       "    <rect x=\"161\" y=\"47\" width=\"2161\" height=\"1457\"/>\n",
       "  </clipPath>\n",
       "</defs>\n",
       "<polyline clip-path=\"url(#clip1103)\" style=\"stroke:#000000; stroke-width:2; stroke-opacity:0.1; fill:none\" points=\"\n",
       "  208.847,1503.47 208.847,47.2441 \n",
       "  \"/>\n",
       "<polyline clip-path=\"url(#clip1103)\" style=\"stroke:#000000; stroke-width:2; stroke-opacity:0.1; fill:none\" points=\"\n",
       "  892.609,1503.47 892.609,47.2441 \n",
       "  \"/>\n",
       "<polyline clip-path=\"url(#clip1103)\" style=\"stroke:#000000; stroke-width:2; stroke-opacity:0.1; fill:none\" points=\"\n",
       "  1576.37,1503.47 1576.37,47.2441 \n",
       "  \"/>\n",
       "<polyline clip-path=\"url(#clip1103)\" style=\"stroke:#000000; stroke-width:2; stroke-opacity:0.1; fill:none\" points=\"\n",
       "  2260.13,1503.47 2260.13,47.2441 \n",
       "  \"/>\n",
       "<polyline clip-path=\"url(#clip1103)\" style=\"stroke:#000000; stroke-width:2; stroke-opacity:0.1; fill:none\" points=\"\n",
       "  161.394,1462.26 2321.26,1462.26 \n",
       "  \"/>\n",
       "<polyline clip-path=\"url(#clip1103)\" style=\"stroke:#000000; stroke-width:2; stroke-opacity:0.1; fill:none\" points=\"\n",
       "  161.394,1058.2 2321.26,1058.2 \n",
       "  \"/>\n",
       "<polyline clip-path=\"url(#clip1103)\" style=\"stroke:#000000; stroke-width:2; stroke-opacity:0.1; fill:none\" points=\"\n",
       "  161.394,654.142 2321.26,654.142 \n",
       "  \"/>\n",
       "<polyline clip-path=\"url(#clip1103)\" style=\"stroke:#000000; stroke-width:2; stroke-opacity:0.1; fill:none\" points=\"\n",
       "  161.394,250.082 2321.26,250.082 \n",
       "  \"/>\n",
       "<polyline clip-path=\"url(#clip1101)\" style=\"stroke:#000000; stroke-width:4; stroke-opacity:1; fill:none\" points=\"\n",
       "  161.394,1503.47 2321.26,1503.47 \n",
       "  \"/>\n",
       "<polyline clip-path=\"url(#clip1101)\" style=\"stroke:#000000; stroke-width:4; stroke-opacity:1; fill:none\" points=\"\n",
       "  161.394,1503.47 161.394,47.2441 \n",
       "  \"/>\n",
       "<polyline clip-path=\"url(#clip1101)\" style=\"stroke:#000000; stroke-width:4; stroke-opacity:1; fill:none\" points=\"\n",
       "  208.847,1503.47 208.847,1481.63 \n",
       "  \"/>\n",
       "<polyline clip-path=\"url(#clip1101)\" style=\"stroke:#000000; stroke-width:4; stroke-opacity:1; fill:none\" points=\"\n",
       "  892.609,1503.47 892.609,1481.63 \n",
       "  \"/>\n",
       "<polyline clip-path=\"url(#clip1101)\" style=\"stroke:#000000; stroke-width:4; stroke-opacity:1; fill:none\" points=\"\n",
       "  1576.37,1503.47 1576.37,1481.63 \n",
       "  \"/>\n",
       "<polyline clip-path=\"url(#clip1101)\" style=\"stroke:#000000; stroke-width:4; stroke-opacity:1; fill:none\" points=\"\n",
       "  2260.13,1503.47 2260.13,1481.63 \n",
       "  \"/>\n",
       "<polyline clip-path=\"url(#clip1101)\" style=\"stroke:#000000; stroke-width:4; stroke-opacity:1; fill:none\" points=\"\n",
       "  161.394,1462.26 193.792,1462.26 \n",
       "  \"/>\n",
       "<polyline clip-path=\"url(#clip1101)\" style=\"stroke:#000000; stroke-width:4; stroke-opacity:1; fill:none\" points=\"\n",
       "  161.394,1058.2 193.792,1058.2 \n",
       "  \"/>\n",
       "<polyline clip-path=\"url(#clip1101)\" style=\"stroke:#000000; stroke-width:4; stroke-opacity:1; fill:none\" points=\"\n",
       "  161.394,654.142 193.792,654.142 \n",
       "  \"/>\n",
       "<polyline clip-path=\"url(#clip1101)\" style=\"stroke:#000000; stroke-width:4; stroke-opacity:1; fill:none\" points=\"\n",
       "  161.394,250.082 193.792,250.082 \n",
       "  \"/>\n",
       "<g clip-path=\"url(#clip1101)\">\n",
       "<text style=\"fill:#000000; fill-opacity:1; font-family:Arial,Helvetica Neue,Helvetica,sans-serif; font-size:48; text-anchor:middle;\" transform=\"rotate(0, 208.847, 1557.47)\" x=\"208.847\" y=\"1557.47\">0</text>\n",
       "</g>\n",
       "<g clip-path=\"url(#clip1101)\">\n",
       "<text style=\"fill:#000000; fill-opacity:1; font-family:Arial,Helvetica Neue,Helvetica,sans-serif; font-size:48; text-anchor:middle;\" transform=\"rotate(0, 892.609, 1557.47)\" x=\"892.609\" y=\"1557.47\">50</text>\n",
       "</g>\n",
       "<g clip-path=\"url(#clip1101)\">\n",
       "<text style=\"fill:#000000; fill-opacity:1; font-family:Arial,Helvetica Neue,Helvetica,sans-serif; font-size:48; text-anchor:middle;\" transform=\"rotate(0, 1576.37, 1557.47)\" x=\"1576.37\" y=\"1557.47\">100</text>\n",
       "</g>\n",
       "<g clip-path=\"url(#clip1101)\">\n",
       "<text style=\"fill:#000000; fill-opacity:1; font-family:Arial,Helvetica Neue,Helvetica,sans-serif; font-size:48; text-anchor:middle;\" transform=\"rotate(0, 2260.13, 1557.47)\" x=\"2260.13\" y=\"1557.47\">150</text>\n",
       "</g>\n",
       "<g clip-path=\"url(#clip1101)\">\n",
       "<text style=\"fill:#000000; fill-opacity:1; font-family:Arial,Helvetica Neue,Helvetica,sans-serif; font-size:48; text-anchor:end;\" transform=\"rotate(0, 137.394, 1479.76)\" x=\"137.394\" y=\"1479.76\">0.0</text>\n",
       "</g>\n",
       "<g clip-path=\"url(#clip1101)\">\n",
       "<text style=\"fill:#000000; fill-opacity:1; font-family:Arial,Helvetica Neue,Helvetica,sans-serif; font-size:48; text-anchor:end;\" transform=\"rotate(0, 137.394, 1075.7)\" x=\"137.394\" y=\"1075.7\">0.1</text>\n",
       "</g>\n",
       "<g clip-path=\"url(#clip1101)\">\n",
       "<text style=\"fill:#000000; fill-opacity:1; font-family:Arial,Helvetica Neue,Helvetica,sans-serif; font-size:48; text-anchor:end;\" transform=\"rotate(0, 137.394, 671.642)\" x=\"137.394\" y=\"671.642\">0.2</text>\n",
       "</g>\n",
       "<g clip-path=\"url(#clip1101)\">\n",
       "<text style=\"fill:#000000; fill-opacity:1; font-family:Arial,Helvetica Neue,Helvetica,sans-serif; font-size:48; text-anchor:end;\" transform=\"rotate(0, 137.394, 267.582)\" x=\"137.394\" y=\"267.582\">0.3</text>\n",
       "</g>\n",
       "<polyline clip-path=\"url(#clip1103)\" style=\"stroke:#009af9; stroke-width:4; stroke-opacity:1; fill:none\" points=\"\n",
       "  222.522,1462.26 236.198,1462.26 249.873,1462.26 263.548,1462.26 277.223,1462.26 290.898,1462.26 304.574,1462.26 318.249,1462.26 331.924,1462.26 345.599,1462.26 \n",
       "  359.275,1462.26 372.95,1462.26 386.625,1462.26 400.3,1462.26 413.976,1462.26 427.651,1462.26 441.326,1462.26 455.001,1462.26 468.676,1462.26 482.352,1462.26 \n",
       "  496.027,1462.26 509.702,1462.26 523.377,1462.26 537.053,1462.26 550.728,1462.26 564.403,1462.26 578.078,1462.26 591.754,1462.26 605.429,1462.26 619.104,1462.26 \n",
       "  632.779,1462.26 646.454,1462.26 660.13,1462.26 673.805,1462.26 687.48,1462.26 701.155,1462.26 714.831,1462.26 728.506,1462.26 742.181,1462.26 755.856,1462.26 \n",
       "  769.532,1462.26 783.207,1462.26 796.882,1462.26 810.557,1462.26 824.232,1462.26 837.908,1462.26 851.583,1462.26 865.258,1462.26 878.933,1462.26 892.609,1462.26 \n",
       "  906.284,1462.26 919.959,1462.26 933.634,1462.26 947.309,1462.26 960.985,1462.26 974.66,1462.26 988.335,1462.26 1002.01,1462.26 1015.69,1462.26 1029.36,1462.26 \n",
       "  1043.04,1462.26 1056.71,1462.26 1070.39,1462.26 1084.06,1462.26 1097.74,1462.26 1111.41,1462.26 1125.09,1462.26 1138.76,1462.26 1152.44,1462.26 1166.11,1462.26 \n",
       "  1179.79,1462.26 1193.46,1462.26 1207.14,1462.26 1220.81,1462.26 1234.49,1462.26 1248.16,1462.26 1261.84,1462.26 1275.52,1462.26 1289.19,1462.26 1302.87,1462.26 \n",
       "  1316.54,1462.26 1330.22,1462.26 1343.89,1462.26 1357.57,1462.26 1371.24,1462.26 1384.92,1462.26 1398.59,1462.26 1412.27,1462.26 1425.94,1462.26 1439.62,1462.26 \n",
       "  1453.29,1462.26 1466.97,1462.26 1480.64,1462.26 1494.32,1462.26 1507.99,1462.26 1521.67,1462.26 1535.34,1462.26 1549.02,1462.26 1562.69,1462.26 1576.37,1462.26 \n",
       "  1590.05,1462.26 1603.72,88.4582 1617.4,1448.79 1631.07,1448.79 1644.75,1448.79 1658.42,1448.79 1672.1,1448.79 1685.77,1448.79 1699.45,1448.79 1713.12,1448.79 \n",
       "  1726.8,1448.79 1740.47,1448.79 1754.15,950.452 1767.82,1462.26 1781.5,1462.26 1795.17,1462.26 1808.85,1462.26 1822.52,1462.26 1836.2,1462.26 1849.87,1462.26 \n",
       "  1863.55,1462.26 1877.23,1462.26 1890.9,1462.26 1904.58,1462.26 1918.25,1462.26 1931.93,1462.26 1945.6,1462.26 1959.28,1462.26 1972.95,1462.26 1986.63,1462.26 \n",
       "  2000.3,1462.26 2013.98,1462.26 2027.65,1462.26 2041.33,1462.26 2055,1462.26 2068.68,1462.26 2082.35,1462.26 2096.03,1462.26 2109.7,1462.26 2123.38,1462.26 \n",
       "  2137.05,1462.26 2150.73,1462.26 2164.4,1462.26 2178.08,1462.26 2191.76,1462.26 2205.43,1462.26 2219.11,1462.26 2232.78,1462.26 2246.46,1462.26 2260.13,1462.26 \n",
       "  \n",
       "  \"/>\n",
       "<polygon clip-path=\"url(#clip1101)\" points=\"\n",
       "1958.43,251.724 2249.26,251.724 2249.26,130.764 1958.43,130.764 \n",
       "  \" fill=\"#ffffff\" fill-opacity=\"1\"/>\n",
       "<polyline clip-path=\"url(#clip1101)\" style=\"stroke:#000000; stroke-width:4; stroke-opacity:1; fill:none\" points=\"\n",
       "  1958.43,251.724 2249.26,251.724 2249.26,130.764 1958.43,130.764 1958.43,251.724 \n",
       "  \"/>\n",
       "<polyline clip-path=\"url(#clip1101)\" style=\"stroke:#009af9; stroke-width:4; stroke-opacity:1; fill:none\" points=\"\n",
       "  1982.43,191.244 2126.43,191.244 \n",
       "  \"/>\n",
       "<g clip-path=\"url(#clip1101)\">\n",
       "<text style=\"fill:#000000; fill-opacity:1; font-family:Arial,Helvetica Neue,Helvetica,sans-serif; font-size:48; text-anchor:start;\" transform=\"rotate(0, 2150.43, 208.744)\" x=\"2150.43\" y=\"208.744\">y1</text>\n",
       "</g>\n",
       "</svg>\n"
      ]
     },
     "execution_count": 6,
     "metadata": {},
     "output_type": "execute_result"
    }
   ],
   "source": [
    "f(a)=a\n",
    "plot(a_prime[:,2]-f(1:150))\n",
    "plot(λ[1:150,1])"
   ]
  },
  {
   "cell_type": "code",
   "execution_count": null,
   "metadata": {},
   "outputs": [],
   "source": []
  }
 ],
 "metadata": {
  "kernelspec": {
   "display_name": "Julia 1.0.2",
   "language": "julia",
   "name": "julia-1.0"
  },
  "language_info": {
   "file_extension": ".jl",
   "mimetype": "application/julia",
   "name": "julia",
   "version": "1.0.2"
  }
 },
 "nbformat": 4,
 "nbformat_minor": 2
}
